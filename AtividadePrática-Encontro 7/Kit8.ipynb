{
  "cells": [
    {
      "cell_type": "code",
      "execution_count": null,
      "metadata": {
        "colab": {
          "base_uri": "https://localhost:8080/"
        },
        "id": "rSnRhkZx9gKe",
        "outputId": "2d96ecad-8ce2-43b5-dc22-d857d2b47c39"
      },
      "outputs": [],
      "source": [
        "### 🧪 Kit Prático – Semana 8: Introdução à Modelagem com Scikit-learn – Classificação\n",
        "# Tema: Predição de sobrevivência com Regressão Logística\n",
        "# Ferramenta: Google Colab\n",
        "# Dataset: https://raw.githubusercontent.com/datasciencedojo/datasets/master/titanic.csv\n",
        "\n",
        "import pandas as pd\n",
        "from sklearn.model_selection import train_test_split\n",
        "from sklearn.linear_model import LogisticRegression\n",
        "from sklearn.metrics import accuracy_score, classification_report\n",
        "\n",
        "# Passo 1: Carregar os dados\n",
        "df = pd.read_csv(\"https://raw.githubusercontent.com/datasciencedojo/datasets/master/titanic.csv\")\n",
        "\n",
        "# Passo 2: Selecionar colunas relevantes\n",
        "df_model = df[['Survived', 'Pclass', 'Sex', 'Age', 'Fare']].copy()\n",
        "\n",
        "# Passo 3: Tratar valores ausentes\n",
        "df_model['Age'].fillna(df_model['Age'].mean(), inplace=True)\n",
        "\n",
        "# Passo 4: Codificar variável categórica 'Sex'\n",
        "df_model['Sex'] = df_model['Sex'].map({'male': 0, 'female': 1})\n",
        "\n",
        "# Passo 5: Separar variáveis independentes e alvo\n",
        "X = df_model[['Pclass', 'Sex', 'Age', 'Fare']]\n",
        "y = df_model['Survived']\n",
        "\n",
        "# Passo 6: Dividir em treino e teste\n",
        "X_train, X_test, y_train, y_test = train_test_split(X, y, test_size=0.2, random_state=42)\n",
        "\n",
        "# Passo 7: Treinar o modelo\n",
        "modelo = LogisticRegression(max_iter=200)\n",
        "modelo.fit(X_train, y_train)\n",
        "\n",
        "# Passo 8: Fazer previsões\n",
        "y_pred = modelo.predict(X_test)\n",
        "\n",
        "# Passo 9: Avaliar o modelo\n",
        "print(\"\\n🎯 Acurácia:\", accuracy_score(y_test, y_pred))\n",
        "print(\"\\n📊 Relatório de Classificação:\\n\")\n",
        "print(classification_report(y_test, y_pred))\n",
        "\n",
        "# DESAFIO EXTRA:\n",
        "# Testar a acurácia de um modelo usando apenas 'Pclass' e 'Sex' como preditores.\n"
      ]
    },
    {
      "cell_type": "code",
      "execution_count": null,
      "metadata": {},
      "outputs": [],
      "source": [
        "# -------------------------------------------------------------------\n",
        "# DESAFIO EXTRA:\n",
        "# Testar a acurácia de um modelo usando apenas 'Pclass' e 'Sex' como preditores.\n",
        "# -------------------------------------------------------------------\n",
        "\n",
        "print(\"\\n--- Modelo do Desafio Extra (apenas com 'Pclass' e 'Sex') ---\")\n",
        "\n",
        "X_desafio = df_model[['Pclass', 'Sex']]\n",
        "\n",
        "X_train_desafio, X_test_desafio, y_train_desafio, y_test_desafio = train_test_split(\n",
        "    X_desafio, y, test_size=0.2, random_state=42\n",
        ")\n",
        "\n",
        "modelo_desafio = LogisticRegression()\n",
        "modelo_desafio.fit(X_train_desafio, y_train_desafio)\n",
        "\n",
        "y_pred_desafio = modelo_desafio.predict(X_test_desafio)\n",
        "\n",
        "print(f\"\\n🎯 Acurácia (Desafio): {accuracy_score(y_test_desafio, y_pred_desafio):.4f}\")\n",
        "print(\"\\n📊 Relatório de Classificação (Desafio):\\n\")\n",
        "print(classification_report(y_test_desafio, y_pred_desafio))"
      ]
    }
  ],
  "metadata": {
    "colab": {
      "provenance": []
    },
    "kernelspec": {
      "display_name": "Python 3",
      "language": "python",
      "name": "python3"
    },
    "language_info": {
      "codemirror_mode": {
        "name": "ipython",
        "version": 3
      },
      "file_extension": ".py",
      "mimetype": "text/x-python",
      "name": "python",
      "nbconvert_exporter": "python",
      "pygments_lexer": "ipython3",
      "version": "3.11.4"
    }
  },
  "nbformat": 4,
  "nbformat_minor": 0
}
