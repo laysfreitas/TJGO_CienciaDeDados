{
  "cells": [
    {
      "cell_type": "code",
      "execution_count": null,
      "metadata": {
        "colab": {
          "base_uri": "https://localhost:8080/",
          "height": 892
        },
        "id": "wsDecsJO983t",
        "outputId": "61b950d1-1509-4ed9-c7d5-d754d29ca232"
      },
      "outputs": [
        {
          "name": "stderr",
          "output_type": "stream",
          "text": [
            "/tmp/ipython-input-3553400908.py:18: FutureWarning: A value is trying to be set on a copy of a DataFrame or Series through chained assignment using an inplace method.\n",
            "The behavior will change in pandas 3.0. This inplace method will never work because the intermediate object on which we are setting values always behaves as a copy.\n",
            "\n",
            "For example, when doing 'df[col].method(value, inplace=True)', try using 'df.method({col: value}, inplace=True)' or df[col] = df[col].method(value) instead, to perform the operation inplace on the original object.\n",
            "\n",
            "\n",
            "  df_model['Age'].fillna(df_model['Age'].mean(), inplace=True)\n"
          ]
        },
        {
          "name": "stdout",
          "output_type": "stream",
          "text": [
            "\n",
            "🎯 Acurácia média (validação cruzada): 0.7889837423890528\n"
          ]
        },
        {
          "name": "stderr",
          "output_type": "stream",
          "text": [
            "/usr/local/lib/python3.12/dist-packages/IPython/core/pylabtools.py:151: UserWarning: Glyph 128269 (\\N{LEFT-POINTING MAGNIFYING GLASS}) missing from font(s) DejaVu Sans.\n",
            "  fig.canvas.print_figure(bytes_io, **kw)\n"
          ]
        },
        {
          "data": {
            "image/png": "[encoded data removed]",
            "text/plain": [
              "<Figure size 640x480 with 2 Axes>"
            ]
          },
          "metadata": {},
          "output_type": "display_data"
        },
        {
          "name": "stdout",
          "output_type": "stream",
          "text": [
            "\n",
            "📊 Relatório de Classificação (validação cruzada):\n",
            "\n",
            "              precision    recall  f1-score   support\n",
            "\n",
            "           0       0.82      0.85      0.83       549\n",
            "           1       0.74      0.70      0.72       342\n",
            "\n",
            "    accuracy                           0.79       891\n",
            "   macro avg       0.78      0.77      0.77       891\n",
            "weighted avg       0.79      0.79      0.79       891\n",
            "\n"
          ]
        }
      ],
      "source": [
        "### 🧪 Kit Prático – Semana 9: Avaliação de Modelos – Validação Cruzada e Métricas\n",
        "# Tema: Como avaliar a performance de modelos preditivos\n",
        "# Ferramenta: Google Colab\n",
        "# Dataset: https://raw.githubusercontent.com/datasciencedojo/datasets/master/titanic.csv\n",
        "\n",
        "import pandas as pd\n",
        "from sklearn.model_selection import cross_val_score, cross_val_predict, StratifiedKFold\n",
        "from sklearn.linear_model import LogisticRegression\n",
        "from sklearn.tree import DecisionTreeClassifier\n",
        "from sklearn.metrics import accuracy_score, confusion_matrix, classification_report\n",
        "import seaborn as sns\n",
        "import matplotlib.pyplot as plt\n",
        "\n",
        "# Passo 1: Carregar os dados\n",
        "df = pd.read_csv(\"https://raw.githubusercontent.com/datasciencedojo/datasets/master/titanic.csv\")\n",
        "\n",
        "# Passo 2: Preparar os dados\n",
        "df_model = df[['Survived', 'Pclass', 'Sex', 'Age', 'Fare']].copy()\n",
        "df_model['Age'].fillna(df_model['Age'].mean(), inplace=True)\n",
        "df_model['Sex'] = df_model['Sex'].map({'male': 0, 'female': 1})\n",
        "\n",
        "X = df_model[['Pclass', 'Sex', 'Age', 'Fare']]\n",
        "y = df_model['Survived']\n",
        "\n",
        "# Passo 3: Validação cruzada (k-fold = 5)\n",
        "kf = StratifiedKFold(n_splits=5, shuffle=True, random_state=42)\n",
        "modelo = LogisticRegression(max_iter=200)\n",
        "\n",
        "scores = cross_val_score(modelo, X, y, cv=kf, scoring='accuracy')\n",
        "print(\"\\n🎯 Acurácia média (validação cruzada):\", scores.mean())\n",
        "\n",
        "# Passo 4: Previsões com validação cruzada\n",
        "y_pred = cross_val_predict(modelo, X, y, cv=kf)\n",
        "\n",
        "# Passo 5: Matriz de confusão\n",
        "cm = confusion_matrix(y, y_pred)\n",
        "sns.heatmap(cm, annot=True, fmt='d', cmap='Blues')\n",
        "plt.xlabel('Previsto')\n",
        "plt.ylabel('Real')\n",
        "plt.title('🔍 Matriz de Confusão')\n",
        "plt.show()\n",
        "\n",
        "# Passo 6: Relatório de classificação\n",
        "print(\"\\n📊 Relatório de Classificação (validação cruzada):\\n\")\n",
        "print(classification_report(y, y_pred))\n",
        "\n",
        "# DESAFIO EXTRA:\n",
        "# Comparar o desempenho com um modelo de árvore de decisão (DecisionTreeClassifier)\n"
      ]
    },
    {
      "cell_type": "code",
      "execution_count": null,
      "metadata": {},
      "outputs": [],
      "source": [
        "modelo_arvore = DecisionTreeClassifier(random_state=42)\n",
        "\n",
        "scores_arvore = cross_val_score(modelo_arvore, X, y, cv=kf, scoring='accuracy')\n",
        "print(\"\\n🎯 Acurácia média (Árvore de Decisão):\", scores_arvore.mean())\n",
        "\n",
        "y_pred_arvore = cross_val_predict(modelo_arvore, X, y, cv=kf)\n",
        "\n",
        "cm_arvore = confusion_matrix(y, y_pred_arvore)\n",
        "plt.figure(figsize=(6, 4))\n",
        "sns.heatmap(cm_arvore, annot=True, fmt='d', cmap='Oranges')\n",
        "plt.xlabel('Previsto')\n",
        "plt.ylabel('Real')\n",
        "plt.title('🔍 Matriz de Confusão (Árvore de Decisão)')\n",
        "plt.show()\n",
        "\n",
        "print(\"\\n📊 Relatório de Classificação (Árvore de Decisão):\\n\")\n",
        "print(classification_report(y, y_pred_arvore))"
      ]
    }
  ],
  "metadata": {
    "colab": {
      "provenance": []
    },
    "kernelspec": {
      "display_name": "Python 3",
      "name": "python3"
    },
    "language_info": {
      "name": "python"
    }
  },
  "nbformat": 4,
  "nbformat_minor": 0
}
