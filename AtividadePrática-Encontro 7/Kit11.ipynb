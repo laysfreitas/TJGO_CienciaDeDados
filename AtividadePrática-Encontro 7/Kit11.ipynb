{
  "cells": [
    {
      "cell_type": "code",
      "execution_count": null,
      "metadata": {
        "id": "VD714Tc6sL-m"
      },
      "outputs": [],
      "source": [
        "### 🧪 Kit Prático – Semana 11: Random Forest e Comparação de Modelos\n",
        "# Tema: Ensemble Learning para melhorar a performance\n",
        "# Ferramenta: Google Colab\n",
        "# Dataset: https://raw.githubusercontent.com/datasciencedojo/datasets/master/titanic.csv\n",
        "\n",
        "import pandas as pd\n",
        "from sklearn.ensemble import RandomForestClassifier\n",
        "from sklearn.tree import DecisionTreeClassifier\n",
        "from sklearn.model_selection import train_test_split\n",
        "from sklearn.metrics import accuracy_score, classification_report\n",
        "import matplotlib.pyplot as plt\n",
        "\n",
        "# Passo 1: Carregar os dados\n",
        "df = pd.read_csv(\"https://raw.githubusercontent.com/datasciencedojo/datasets/master/titanic.csv\")\n",
        "\n",
        "# Passo 2: Preparar os dados\n",
        "df_model = df[['Survived', 'Pclass', 'Sex', 'Age', 'Fare']].copy()\n",
        "df_model['Age'].fillna(df_model['Age'].mean(), inplace=True)\n",
        "df_model['Sex'] = df_model['Sex'].map({'male': 0, 'female': 1})\n",
        "\n",
        "X = df_model[['Pclass', 'Sex', 'Age', 'Fare']]\n",
        "y = df_model['Survived']\n",
        "\n",
        "# Passo 3: Dividir em treino e teste\n",
        "X_train, X_test, y_train, y_test = train_test_split(X, y, test_size=0.2, random_state=42)\n",
        "\n",
        "# Passo 4: Treinar o modelo de Árvore de Decisão\n",
        "modelo_arvore = DecisionTreeClassifier(max_depth=4, random_state=42)\n",
        "modelo_arvore.fit(X_train, y_train)\n",
        "y_pred_arvore = modelo_arvore.predict(X_test)\n",
        "\n",
        "# Passo 5: Treinar o modelo de Random Forest\n",
        "modelo_rf = RandomForestClassifier(n_estimators=100, random_state=42)\n",
        "modelo_rf.fit(X_train, y_train)\n",
        "y_pred_rf = modelo_rf.predict(X_test)\n",
        "\n",
        "# Passo 6: Avaliar os modelos\n",
        "print(\"\\n🌳 Árvore de Decisão\")\n",
        "print(\"Acurácia:\", accuracy_score(y_test, y_pred_arvore))\n",
        "print(classification_report(y_test, y_pred_arvore))\n",
        "\n",
        "print(\"\\n🌲 Random Forest\")\n",
        "print(\"Acurácia:\", accuracy_score(y_test, y_pred_rf))\n",
        "print(classification_report(y_test, y_pred_rf))\n",
        "\n",
        "# DESAFIO EXTRA:\n",
        "# Testar a Random Forest variando o número de árvores (n_estimators) para ver o impacto na acurácia.\n"
      ]
    },
    {
      "cell_type": "code",
      "execution_count": null,
      "metadata": {},
      "outputs": [],
      "source": [
        "acuracias_rf = []\n",
        "estimators = [10, 20, 50, 100, 200, 500]\n",
        "\n",
        "for n in estimators:\n",
        "    modelo_teste_rf = RandomForestClassifier(n_estimators=n, random_state=42)\n",
        "    modelo_teste_rf.fit(X_train, y_train)\n",
        "    \n",
        "    y_pred_teste = modelo_teste_rf.predict(X_test)\n",
        "    acc = accuracy_score(y_test, y_pred_teste)\n",
        "    acuracias_rf.append(acc)\n",
        "    \n",
        "    print(f\"Número de Árvores (n_estimators): {n:3d} | Acurácia: {acc:.4f}\")\n",
        "\n",
        "plt.figure(figsize=(10, 6))\n",
        "plt.plot(estimators, acuracias_rf, marker='o', linestyle='-')\n",
        "plt.title('📈 Impacto do n_estimators na Acurácia do Random Forest')\n",
        "plt.xlabel('Número de Árvores na Floresta (n_estimators)')\n",
        "plt.ylabel('Acurácia no Conjunto de Teste')\n",
        "plt.xscale('log')\n",
        "plt.grid(True)\n",
        "plt.show()\n"
      ]
    }
  ],
  "metadata": {
    "colab": {
      "provenance": []
    },
    "kernelspec": {
      "display_name": "Python 3",
      "name": "python3"
    },
    "language_info": {
      "name": "python"
    }
  },
  "nbformat": 4,
  "nbformat_minor": 0
}
